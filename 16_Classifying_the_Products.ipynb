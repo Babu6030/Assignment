{
  "nbformat": 4,
  "nbformat_minor": 0,
  "metadata": {
    "colab": {
      "name": "16.Classifying the Products",
      "provenance": [],
      "collapsed_sections": []
    },
    "kernelspec": {
      "name": "python3",
      "display_name": "Python 3"
    },
    "language_info": {
      "name": "python"
    }
  },
  "cells": [
    {
      "cell_type": "markdown",
      "metadata": {
        "id": "u2uKK7ityFcx"
      },
      "source": [
        "Building a Machine Learning model to Classify the text into Categories"
      ]
    },
    {
      "cell_type": "code",
      "metadata": {
        "id": "hRuQyQOUfyrF"
      },
      "source": [
        "#Importing the libraries\n",
        "import pandas as pd\n",
        "import numpy as np"
      ],
      "execution_count": 104,
      "outputs": []
    },
    {
      "cell_type": "code",
      "metadata": {
        "id": "PF8RTZKTgj_M"
      },
      "source": [
        "#Loading the datasets\n",
        "df=pd.read_csv('/content/drive/MyDrive/training_data.csv')\n",
        "test=pd.read_csv('/content/drive/MyDrive/testing_data.csv')"
      ],
      "execution_count": 105,
      "outputs": []
    },
    {
      "cell_type": "code",
      "metadata": {
        "colab": {
          "base_uri": "https://localhost:8080/",
          "height": 206
        },
        "id": "_EGrARV_gxA8",
        "outputId": "0f213a20-1a68-4836-d326-1770fa73e5bd"
      },
      "source": [
        "#Preview\n",
        "df.head(5)"
      ],
      "execution_count": 106,
      "outputs": [
        {
          "output_type": "execute_result",
          "data": {
            "text/html": [
              "<div>\n",
              "<style scoped>\n",
              "    .dataframe tbody tr th:only-of-type {\n",
              "        vertical-align: middle;\n",
              "    }\n",
              "\n",
              "    .dataframe tbody tr th {\n",
              "        vertical-align: top;\n",
              "    }\n",
              "\n",
              "    .dataframe thead th {\n",
              "        text-align: right;\n",
              "    }\n",
              "</style>\n",
              "<table border=\"1\" class=\"dataframe\">\n",
              "  <thead>\n",
              "    <tr style=\"text-align: right;\">\n",
              "      <th></th>\n",
              "      <th>title</th>\n",
              "      <th>category</th>\n",
              "    </tr>\n",
              "  </thead>\n",
              "  <tbody>\n",
              "    <tr>\n",
              "      <th>0</th>\n",
              "      <td>The Three Amigos</td>\n",
              "      <td>None</td>\n",
              "    </tr>\n",
              "    <tr>\n",
              "      <th>1</th>\n",
              "      <td>Home Essentials Blue Floral Glass Vintage Styl...</td>\n",
              "      <td>Home &amp; Kitchen</td>\n",
              "    </tr>\n",
              "    <tr>\n",
              "      <th>2</th>\n",
              "      <td>Cooper Wiring Quiet Toggle Switch Single Pole ...</td>\n",
              "      <td>Tools &amp; Home Improvement</td>\n",
              "    </tr>\n",
              "    <tr>\n",
              "      <th>3</th>\n",
              "      <td>Baseboarders&amp;reg; Wall Brackets</td>\n",
              "      <td>Tools &amp; Home Improvement</td>\n",
              "    </tr>\n",
              "    <tr>\n",
              "      <th>4</th>\n",
              "      <td>The Great Wave Off Kanagawa Custom Rectangle M...</td>\n",
              "      <td>Office Products</td>\n",
              "    </tr>\n",
              "  </tbody>\n",
              "</table>\n",
              "</div>"
            ],
            "text/plain": [
              "                                               title                  category\n",
              "0                                   The Three Amigos                      None\n",
              "1  Home Essentials Blue Floral Glass Vintage Styl...            Home & Kitchen\n",
              "2  Cooper Wiring Quiet Toggle Switch Single Pole ...  Tools & Home Improvement\n",
              "3                    Baseboarders&reg; Wall Brackets  Tools & Home Improvement\n",
              "4  The Great Wave Off Kanagawa Custom Rectangle M...           Office Products"
            ]
          },
          "metadata": {},
          "execution_count": 106
        }
      ]
    },
    {
      "cell_type": "code",
      "metadata": {
        "colab": {
          "base_uri": "https://localhost:8080/",
          "height": 206
        },
        "id": "JL-7v1Vog1zq",
        "outputId": "d4cd695a-4665-48b0-9bbd-9759c472ddd9"
      },
      "source": [
        "test.head(5)"
      ],
      "execution_count": 107,
      "outputs": [
        {
          "output_type": "execute_result",
          "data": {
            "text/html": [
              "<div>\n",
              "<style scoped>\n",
              "    .dataframe tbody tr th:only-of-type {\n",
              "        vertical-align: middle;\n",
              "    }\n",
              "\n",
              "    .dataframe tbody tr th {\n",
              "        vertical-align: top;\n",
              "    }\n",
              "\n",
              "    .dataframe thead th {\n",
              "        text-align: right;\n",
              "    }\n",
              "</style>\n",
              "<table border=\"1\" class=\"dataframe\">\n",
              "  <thead>\n",
              "    <tr style=\"text-align: right;\">\n",
              "      <th></th>\n",
              "      <th>title</th>\n",
              "      <th>category</th>\n",
              "    </tr>\n",
              "  </thead>\n",
              "  <tbody>\n",
              "    <tr>\n",
              "      <th>0</th>\n",
              "      <td>Pom Pom Hair Band Rabbit Light Grey Decorative...</td>\n",
              "      <td>NaN</td>\n",
              "    </tr>\n",
              "    <tr>\n",
              "      <th>1</th>\n",
              "      <td>Mariposa Golf Ball Napkin Weight</td>\n",
              "      <td>NaN</td>\n",
              "    </tr>\n",
              "    <tr>\n",
              "      <th>2</th>\n",
              "      <td>Mediterranean Snack Food Roasted Garlic Hummuz...</td>\n",
              "      <td>NaN</td>\n",
              "    </tr>\n",
              "    <tr>\n",
              "      <th>3</th>\n",
              "      <td>John Deere 0071750GX22269 Genuine Original Equ...</td>\n",
              "      <td>NaN</td>\n",
              "    </tr>\n",
              "    <tr>\n",
              "      <th>4</th>\n",
              "      <td>Protech Wood Cleanr Gl,PERFORMANCE COATINGS IN...</td>\n",
              "      <td>NaN</td>\n",
              "    </tr>\n",
              "  </tbody>\n",
              "</table>\n",
              "</div>"
            ],
            "text/plain": [
              "                                               title  category\n",
              "0  Pom Pom Hair Band Rabbit Light Grey Decorative...       NaN\n",
              "1                   Mariposa Golf Ball Napkin Weight       NaN\n",
              "2  Mediterranean Snack Food Roasted Garlic Hummuz...       NaN\n",
              "3  John Deere 0071750GX22269 Genuine Original Equ...       NaN\n",
              "4  Protech Wood Cleanr Gl,PERFORMANCE COATINGS IN...       NaN"
            ]
          },
          "metadata": {},
          "execution_count": 107
        }
      ]
    },
    {
      "cell_type": "code",
      "metadata": {
        "colab": {
          "base_uri": "https://localhost:8080/"
        },
        "id": "frKjLgbki4Tx",
        "outputId": "cf9c0789-688b-4ef7-e1bc-244dc283a239"
      },
      "source": [
        "#Check for the count of categories\n",
        "df.category.value_counts()"
      ],
      "execution_count": 108,
      "outputs": [
        {
          "output_type": "execute_result",
          "data": {
            "text/plain": [
              "None                        10123\n",
              "Home & Kitchen               4960\n",
              "Tools & Home Improvement     2080\n",
              "Office Products              1144\n",
              "Grocery & Gourmet Food       1102\n",
              "Industrial & Scientific       588\n",
              "Electronics                   191\n",
              "Name: category, dtype: int64"
            ]
          },
          "metadata": {},
          "execution_count": 108
        }
      ]
    },
    {
      "cell_type": "code",
      "metadata": {
        "colab": {
          "base_uri": "https://localhost:8080/",
          "height": 423
        },
        "id": "NMULDV09ziyB",
        "outputId": "a3924528-43e7-4973-dba5-020a93b1b4a0"
      },
      "source": [
        "#Drop None values\n",
        "df.mask(df.eq('None')).dropna()"
      ],
      "execution_count": 109,
      "outputs": [
        {
          "output_type": "execute_result",
          "data": {
            "text/html": [
              "<div>\n",
              "<style scoped>\n",
              "    .dataframe tbody tr th:only-of-type {\n",
              "        vertical-align: middle;\n",
              "    }\n",
              "\n",
              "    .dataframe tbody tr th {\n",
              "        vertical-align: top;\n",
              "    }\n",
              "\n",
              "    .dataframe thead th {\n",
              "        text-align: right;\n",
              "    }\n",
              "</style>\n",
              "<table border=\"1\" class=\"dataframe\">\n",
              "  <thead>\n",
              "    <tr style=\"text-align: right;\">\n",
              "      <th></th>\n",
              "      <th>title</th>\n",
              "      <th>category</th>\n",
              "    </tr>\n",
              "  </thead>\n",
              "  <tbody>\n",
              "    <tr>\n",
              "      <th>1</th>\n",
              "      <td>Home Essentials Blue Floral Glass Vintage Styl...</td>\n",
              "      <td>Home &amp; Kitchen</td>\n",
              "    </tr>\n",
              "    <tr>\n",
              "      <th>2</th>\n",
              "      <td>Cooper Wiring Quiet Toggle Switch Single Pole ...</td>\n",
              "      <td>Tools &amp; Home Improvement</td>\n",
              "    </tr>\n",
              "    <tr>\n",
              "      <th>3</th>\n",
              "      <td>Baseboarders&amp;reg; Wall Brackets</td>\n",
              "      <td>Tools &amp; Home Improvement</td>\n",
              "    </tr>\n",
              "    <tr>\n",
              "      <th>4</th>\n",
              "      <td>The Great Wave Off Kanagawa Custom Rectangle M...</td>\n",
              "      <td>Office Products</td>\n",
              "    </tr>\n",
              "    <tr>\n",
              "      <th>5</th>\n",
              "      <td>Nemcor Pittsburgh Penguins NHL #1 Ultimate Fan...</td>\n",
              "      <td>Home &amp; Kitchen</td>\n",
              "    </tr>\n",
              "    <tr>\n",
              "      <th>...</th>\n",
              "      <td>...</td>\n",
              "      <td>...</td>\n",
              "    </tr>\n",
              "    <tr>\n",
              "      <th>20175</th>\n",
              "      <td>Curtain Chic Supple Microfiber Cumberbund Vala...</td>\n",
              "      <td>Home &amp; Kitchen</td>\n",
              "    </tr>\n",
              "    <tr>\n",
              "      <th>20176</th>\n",
              "      <td>Jack &amp;amp; Jason's Pancake &amp;amp; Waffle Mix - ...</td>\n",
              "      <td>Grocery &amp; Gourmet Food</td>\n",
              "    </tr>\n",
              "    <tr>\n",
              "      <th>20178</th>\n",
              "      <td>4 Swivel Casters 4&amp;quot; Rubber Double Brake B...</td>\n",
              "      <td>Industrial &amp; Scientific</td>\n",
              "    </tr>\n",
              "    <tr>\n",
              "      <th>20185</th>\n",
              "      <td>Patriotic Flip Flop Ornament Assortment of 2</td>\n",
              "      <td>Home &amp; Kitchen</td>\n",
              "    </tr>\n",
              "    <tr>\n",
              "      <th>20187</th>\n",
              "      <td>4 Light Track Lighting Wall &amp;amp; Ceiling Moun...</td>\n",
              "      <td>Tools &amp; Home Improvement</td>\n",
              "    </tr>\n",
              "  </tbody>\n",
              "</table>\n",
              "<p>10065 rows × 2 columns</p>\n",
              "</div>"
            ],
            "text/plain": [
              "                                                   title                  category\n",
              "1      Home Essentials Blue Floral Glass Vintage Styl...            Home & Kitchen\n",
              "2      Cooper Wiring Quiet Toggle Switch Single Pole ...  Tools & Home Improvement\n",
              "3                        Baseboarders&reg; Wall Brackets  Tools & Home Improvement\n",
              "4      The Great Wave Off Kanagawa Custom Rectangle M...           Office Products\n",
              "5      Nemcor Pittsburgh Penguins NHL #1 Ultimate Fan...            Home & Kitchen\n",
              "...                                                  ...                       ...\n",
              "20175  Curtain Chic Supple Microfiber Cumberbund Vala...            Home & Kitchen\n",
              "20176  Jack &amp; Jason's Pancake &amp; Waffle Mix - ...    Grocery & Gourmet Food\n",
              "20178  4 Swivel Casters 4&quot; Rubber Double Brake B...   Industrial & Scientific\n",
              "20185       Patriotic Flip Flop Ornament Assortment of 2            Home & Kitchen\n",
              "20187  4 Light Track Lighting Wall &amp; Ceiling Moun...  Tools & Home Improvement\n",
              "\n",
              "[10065 rows x 2 columns]"
            ]
          },
          "metadata": {},
          "execution_count": 109
        }
      ]
    },
    {
      "cell_type": "code",
      "metadata": {
        "colab": {
          "base_uri": "https://localhost:8080/"
        },
        "id": "dIDJvHwxmQqu",
        "outputId": "a969aed6-4b70-493a-ce00-e66e0a2f673f"
      },
      "source": [
        "df.category.value_counts()"
      ],
      "execution_count": 110,
      "outputs": [
        {
          "output_type": "execute_result",
          "data": {
            "text/plain": [
              "None                        10123\n",
              "Home & Kitchen               4960\n",
              "Tools & Home Improvement     2080\n",
              "Office Products              1144\n",
              "Grocery & Gourmet Food       1102\n",
              "Industrial & Scientific       588\n",
              "Electronics                   191\n",
              "Name: category, dtype: int64"
            ]
          },
          "metadata": {},
          "execution_count": 110
        }
      ]
    },
    {
      "cell_type": "code",
      "metadata": {
        "id": "ny8ZjzJOmYPZ"
      },
      "source": [
        "#Converting the test files in Dependent and Independent\n",
        "X=df['title'] \n",
        "Y=df['category']"
      ],
      "execution_count": 111,
      "outputs": []
    },
    {
      "cell_type": "markdown",
      "metadata": {
        "id": "QXIaKhQC1960"
      },
      "source": [
        "# Preprocessing\n",
        "The next step is to get the dataset ready to build a model. A machine learning model can only deal with numbers, so we'll have to convert our text into numbers using TfidfVectorizer\n",
        "\n",
        "once we split our data, we can use the TfidfVectorizer. This will return a sparse matrix(a matrix with mostly 0's)"
      ]
    },
    {
      "cell_type": "code",
      "metadata": {
        "id": "SbZh1wDznWs4"
      },
      "source": [
        "from sklearn.feature_extraction.text import TfidfVectorizer\n",
        "vectorizer = TfidfVectorizer()\n",
        "X = vectorizer.fit_transform(X)\n"
      ],
      "execution_count": 112,
      "outputs": []
    },
    {
      "cell_type": "code",
      "metadata": {
        "id": "isuo3SSDrUJc"
      },
      "source": [
        "#Converting Test dataset into Vectorising\n",
        "Ytest = vectorizer.transform(test['title'])\n"
      ],
      "execution_count": 113,
      "outputs": []
    },
    {
      "cell_type": "code",
      "metadata": {
        "colab": {
          "base_uri": "https://localhost:8080/",
          "height": 206
        },
        "id": "oDgMSwmnn-wM",
        "outputId": "c64d94cc-a55a-4f0b-87f1-7038be381d08"
      },
      "source": [
        "test.head(5)"
      ],
      "execution_count": 114,
      "outputs": [
        {
          "output_type": "execute_result",
          "data": {
            "text/html": [
              "<div>\n",
              "<style scoped>\n",
              "    .dataframe tbody tr th:only-of-type {\n",
              "        vertical-align: middle;\n",
              "    }\n",
              "\n",
              "    .dataframe tbody tr th {\n",
              "        vertical-align: top;\n",
              "    }\n",
              "\n",
              "    .dataframe thead th {\n",
              "        text-align: right;\n",
              "    }\n",
              "</style>\n",
              "<table border=\"1\" class=\"dataframe\">\n",
              "  <thead>\n",
              "    <tr style=\"text-align: right;\">\n",
              "      <th></th>\n",
              "      <th>title</th>\n",
              "      <th>category</th>\n",
              "    </tr>\n",
              "  </thead>\n",
              "  <tbody>\n",
              "    <tr>\n",
              "      <th>0</th>\n",
              "      <td>Pom Pom Hair Band Rabbit Light Grey Decorative...</td>\n",
              "      <td>NaN</td>\n",
              "    </tr>\n",
              "    <tr>\n",
              "      <th>1</th>\n",
              "      <td>Mariposa Golf Ball Napkin Weight</td>\n",
              "      <td>NaN</td>\n",
              "    </tr>\n",
              "    <tr>\n",
              "      <th>2</th>\n",
              "      <td>Mediterranean Snack Food Roasted Garlic Hummuz...</td>\n",
              "      <td>NaN</td>\n",
              "    </tr>\n",
              "    <tr>\n",
              "      <th>3</th>\n",
              "      <td>John Deere 0071750GX22269 Genuine Original Equ...</td>\n",
              "      <td>NaN</td>\n",
              "    </tr>\n",
              "    <tr>\n",
              "      <th>4</th>\n",
              "      <td>Protech Wood Cleanr Gl,PERFORMANCE COATINGS IN...</td>\n",
              "      <td>NaN</td>\n",
              "    </tr>\n",
              "  </tbody>\n",
              "</table>\n",
              "</div>"
            ],
            "text/plain": [
              "                                               title  category\n",
              "0  Pom Pom Hair Band Rabbit Light Grey Decorative...       NaN\n",
              "1                   Mariposa Golf Ball Napkin Weight       NaN\n",
              "2  Mediterranean Snack Food Roasted Garlic Hummuz...       NaN\n",
              "3  John Deere 0071750GX22269 Genuine Original Equ...       NaN\n",
              "4  Protech Wood Cleanr Gl,PERFORMANCE COATINGS IN...       NaN"
            ]
          },
          "metadata": {},
          "execution_count": 114
        }
      ]
    },
    {
      "cell_type": "markdown",
      "metadata": {
        "id": "-7yFzGdp2n18"
      },
      "source": [
        "Next, we'll train a model using Gaussian Naive Bayes in scikit-learn. Its a good starting algorithm for text classification."
      ]
    },
    {
      "cell_type": "code",
      "metadata": {
        "id": "i6QhOLuBokEz"
      },
      "source": [
        "#Import the model\n",
        "from sklearn.naive_bayes import GaussianNB"
      ],
      "execution_count": 115,
      "outputs": []
    },
    {
      "cell_type": "markdown",
      "metadata": {
        "id": "Atjw8bJI216L"
      },
      "source": [
        "# Model Training\n",
        "**To train our model, we'll use A Navie Bayes algorhtymn to train our model**"
      ]
    },
    {
      "cell_type": "code",
      "metadata": {
        "colab": {
          "base_uri": "https://localhost:8080/"
        },
        "id": "tX0XAushomWO",
        "outputId": "9bafe721-13d5-4c99-8c62-176a1ae395e5"
      },
      "source": [
        "clf = GaussianNB()\n",
        "clf.fit(X.toarray(),Y)"
      ],
      "execution_count": 116,
      "outputs": [
        {
          "output_type": "execute_result",
          "data": {
            "text/plain": [
              "GaussianNB()"
            ]
          },
          "metadata": {},
          "execution_count": 116
        }
      ]
    },
    {
      "cell_type": "code",
      "metadata": {
        "id": "s1nbhOycouzf"
      },
      "source": [
        "#Predicting the test classes Category\n",
        "y_pred = clf.predict(Ytest.toarray())"
      ],
      "execution_count": 117,
      "outputs": []
    },
    {
      "cell_type": "code",
      "metadata": {
        "colab": {
          "base_uri": "https://localhost:8080/"
        },
        "id": "AJ9gdKgspRt-",
        "outputId": "7fc571ee-87dd-486f-ca39-59d049e7d81d"
      },
      "source": [
        "print(y_pred)"
      ],
      "execution_count": 119,
      "outputs": [
        {
          "output_type": "stream",
          "name": "stdout",
          "text": [
            "['Home & Kitchen' 'None' 'None' ... 'Home & Kitchen' 'Home & Kitchen'\n",
            " 'None']\n"
          ]
        }
      ]
    },
    {
      "cell_type": "code",
      "metadata": {
        "id": "-_vGb2GBuFF3"
      },
      "source": [
        "#Converting array prediciton into DataFrame\n",
        "final=pd.DataFrame(y_pred,columns=['Category'])"
      ],
      "execution_count": 120,
      "outputs": []
    },
    {
      "cell_type": "code",
      "metadata": {
        "id": "74QPaYRWwKSN"
      },
      "source": [
        "#Final training dataset in which Category Nan values are replaced with your Prediciton values \n",
        "test.category.fillna(final.Category, inplace=True)"
      ],
      "execution_count": 121,
      "outputs": []
    },
    {
      "cell_type": "code",
      "metadata": {
        "id": "7fWNYqpyvDGk"
      },
      "source": [
        "#Converting Data frame into CSV file for submission\n",
        "test.to_csv(\"submission.csv\", index=False)"
      ],
      "execution_count": 122,
      "outputs": []
    },
    {
      "cell_type": "code",
      "metadata": {
        "colab": {
          "base_uri": "https://localhost:8080/",
          "height": 423
        },
        "id": "5QHxBxLvvzFU",
        "outputId": "51e359fc-c5c9-4e99-82ff-ecb4f6dcda00"
      },
      "source": [
        "#final preview\n",
        "test\n"
      ],
      "execution_count": 123,
      "outputs": [
        {
          "output_type": "execute_result",
          "data": {
            "text/html": [
              "<div>\n",
              "<style scoped>\n",
              "    .dataframe tbody tr th:only-of-type {\n",
              "        vertical-align: middle;\n",
              "    }\n",
              "\n",
              "    .dataframe tbody tr th {\n",
              "        vertical-align: top;\n",
              "    }\n",
              "\n",
              "    .dataframe thead th {\n",
              "        text-align: right;\n",
              "    }\n",
              "</style>\n",
              "<table border=\"1\" class=\"dataframe\">\n",
              "  <thead>\n",
              "    <tr style=\"text-align: right;\">\n",
              "      <th></th>\n",
              "      <th>title</th>\n",
              "      <th>category</th>\n",
              "    </tr>\n",
              "  </thead>\n",
              "  <tbody>\n",
              "    <tr>\n",
              "      <th>0</th>\n",
              "      <td>Pom Pom Hair Band Rabbit Light Grey Decorative...</td>\n",
              "      <td>Home &amp; Kitchen</td>\n",
              "    </tr>\n",
              "    <tr>\n",
              "      <th>1</th>\n",
              "      <td>Mariposa Golf Ball Napkin Weight</td>\n",
              "      <td>None</td>\n",
              "    </tr>\n",
              "    <tr>\n",
              "      <th>2</th>\n",
              "      <td>Mediterranean Snack Food Roasted Garlic Hummuz...</td>\n",
              "      <td>None</td>\n",
              "    </tr>\n",
              "    <tr>\n",
              "      <th>3</th>\n",
              "      <td>John Deere 0071750GX22269 Genuine Original Equ...</td>\n",
              "      <td>Industrial &amp; Scientific</td>\n",
              "    </tr>\n",
              "    <tr>\n",
              "      <th>4</th>\n",
              "      <td>Protech Wood Cleanr Gl,PERFORMANCE COATINGS IN...</td>\n",
              "      <td>Tools &amp; Home Improvement</td>\n",
              "    </tr>\n",
              "    <tr>\n",
              "      <th>...</th>\n",
              "      <td>...</td>\n",
              "      <td>...</td>\n",
              "    </tr>\n",
              "    <tr>\n",
              "      <th>10089</th>\n",
              "      <td>Flexible Coupling - 3.0&amp;quot; x 3.0&amp;quot; - White</td>\n",
              "      <td>Industrial &amp; Scientific</td>\n",
              "    </tr>\n",
              "    <tr>\n",
              "      <th>10090</th>\n",
              "      <td>Mr. Christmas 4 1/2-Inch Mini Porcelain Music ...</td>\n",
              "      <td>Home &amp; Kitchen</td>\n",
              "    </tr>\n",
              "    <tr>\n",
              "      <th>10091</th>\n",
              "      <td>Jewish New Year - Shanah Tovah - Rosh Hashana ...</td>\n",
              "      <td>Home &amp; Kitchen</td>\n",
              "    </tr>\n",
              "    <tr>\n",
              "      <th>10092</th>\n",
              "      <td>Hotel Collection Gridwork Queen Bedskirt Graphite</td>\n",
              "      <td>Home &amp; Kitchen</td>\n",
              "    </tr>\n",
              "    <tr>\n",
              "      <th>10093</th>\n",
              "      <td>2-LBS SUPER FRESH ROASTED &amp;ndash; YIRGACHEFFE ...</td>\n",
              "      <td>None</td>\n",
              "    </tr>\n",
              "  </tbody>\n",
              "</table>\n",
              "<p>10094 rows × 2 columns</p>\n",
              "</div>"
            ],
            "text/plain": [
              "                                                   title                  category\n",
              "0      Pom Pom Hair Band Rabbit Light Grey Decorative...            Home & Kitchen\n",
              "1                       Mariposa Golf Ball Napkin Weight                      None\n",
              "2      Mediterranean Snack Food Roasted Garlic Hummuz...                      None\n",
              "3      John Deere 0071750GX22269 Genuine Original Equ...   Industrial & Scientific\n",
              "4      Protech Wood Cleanr Gl,PERFORMANCE COATINGS IN...  Tools & Home Improvement\n",
              "...                                                  ...                       ...\n",
              "10089  Flexible Coupling - 3.0&quot; x 3.0&quot; - White   Industrial & Scientific\n",
              "10090  Mr. Christmas 4 1/2-Inch Mini Porcelain Music ...            Home & Kitchen\n",
              "10091  Jewish New Year - Shanah Tovah - Rosh Hashana ...            Home & Kitchen\n",
              "10092  Hotel Collection Gridwork Queen Bedskirt Graphite            Home & Kitchen\n",
              "10093  2-LBS SUPER FRESH ROASTED &ndash; YIRGACHEFFE ...                      None\n",
              "\n",
              "[10094 rows x 2 columns]"
            ]
          },
          "metadata": {},
          "execution_count": 123
        }
      ]
    },
    {
      "cell_type": "markdown",
      "metadata": {
        "id": "A8zSHesp4M5G"
      },
      "source": [
        "## Performance metrics are \n",
        "1.accuracy_score\n",
        "2.classification_report\n",
        "3.confusion_matrix\n",
        "\n",
        "\n",
        "We also print out the confusion_matrix. This shows how many Categories were classificed correctly. In the first column and first row.\n",
        "\n",
        "We havent used any metrics since the test data is not labeled."
      ]
    }
  ]
}